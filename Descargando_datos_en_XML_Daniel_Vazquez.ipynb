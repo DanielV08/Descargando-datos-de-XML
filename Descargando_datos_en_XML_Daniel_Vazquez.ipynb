{
  "nbformat": 4,
  "nbformat_minor": 0,
  "metadata": {
    "colab": {
      "provenance": [],
      "collapsed_sections": []
    },
    "kernelspec": {
      "name": "python3",
      "display_name": "Python 3"
    },
    "language_info": {
      "name": "python"
    }
  },
  "cells": [
    {
      "cell_type": "markdown",
      "source": [
        "<center>\n",
        "\n",
        "\n",
        "# Curso *Ingeniería de Características*\n",
        "<p><img src=\"https://mcd.unison.mx/wp-content/themes/awaken/img/logo_mcd.png\" width=\"150\">\n",
        "</p>\n",
        "\n",
        "## Descargando datos en XML\n",
        "\n",
        "Daniel Eduardo Vázquez Espinoza\n",
        "\n",
        "\n",
        "</center>"
      ],
      "metadata": {
        "id": "u3a8DYSpJwLk"
      }
    },
    {
      "cell_type": "markdown",
      "source": [
        "### **Objetivos:**\n",
        "  \n",
        "\n",
        "*   Descargar un documento XML de wikipedia y analizar el arbol que se genera\n",
        "*   Definir un data grame en funcion del analisis que pueda ser util para algun proyecto se ciencia de datos.\n",
        "*  Desarrolla un script que genere el DataFrame definido en el punto anterior\n",
        "*   Guarda el DataFrame generado como un archivo de tipo parquet\n",
        "\n",
        "\n"
      ],
      "metadata": {
        "id": "81VgiQcZLnOL"
      }
    },
    {
      "cell_type": "markdown",
      "source": [
        "Comenzaremos importando las librerias necesarias:"
      ],
      "metadata": {
        "id": "P1mL9vz9PBat"
      }
    },
    {
      "cell_type": "code",
      "source": [
        "import os #libreria para manipular directorios\n",
        "import urllib.request  #Descarga de datos\n",
        "import xml.etree.ElementTree as et\n",
        "import datetime\n",
        "import pandas as pd\n",
        "import numpy as np\n",
        "import zipfile\n",
        "import re #Para utilizar expresiones regulares"
      ],
      "metadata": {
        "id": "XslIAAVlvnGo"
      },
      "execution_count": 5,
      "outputs": []
    },
    {
      "cell_type": "markdown",
      "source": [
        "Descargamos el archivo desde su enlace y guardamos en el path"
      ],
      "metadata": {
        "id": "k0em3WJzPQPC"
      }
    },
    {
      "cell_type": "code",
      "source": [
        "enlace = \"https://github.com/mcd-unison/ing-caract/raw/main/ejemplos/integracion/ejemplos/wikipedia-poetas.xml\"\n",
        "nombre = \"poetas.xml\"\n",
        "subdir = \"./data/\"\n",
        "\n",
        "if not os.path.exists(subdir + nombre):\n",
        "    if not os.path.exists(subdir):\n",
        "        os.makedirs(subdir)\n",
        "    urllib.request.urlretrieve(enlace, subdir + nombre)"
      ],
      "metadata": {
        "id": "0Hf5WnfIwL5d"
      },
      "execution_count": 6,
      "outputs": []
    },
    {
      "cell_type": "markdown",
      "source": [
        "Al desplegar su estrutura se puede apreciar que se solo cambia el nombre del atributo al final : \n",
        "\n",
        "\"{ http://www.mediawiki.org/xml/export-0.10/ }Atributo\""
      ],
      "metadata": {
        "id": "RRgu8_IvQ3Ne"
      }
    },
    {
      "cell_type": "code",
      "source": [
        "poetas=et.parse(subdir+ nombre)\n",
        "root = poetas.getroot()"
      ],
      "metadata": {
        "id": "Lj4gpYWO0iE3"
      },
      "execution_count": 7,
      "outputs": []
    },
    {
      "cell_type": "code",
      "source": [
        "[elem.tag for elem in root.iter()][50:60]"
      ],
      "metadata": {
        "colab": {
          "base_uri": "https://localhost:8080/"
        },
        "id": "Sb0UNM1M1hFn",
        "outputId": "9734752a-b78c-47dc-d085-41642d59f9ab"
      },
      "execution_count": 8,
      "outputs": [
        {
          "output_type": "execute_result",
          "data": {
            "text/plain": [
              "['{http://www.mediawiki.org/xml/export-0.10/}id',\n",
              " '{http://www.mediawiki.org/xml/export-0.10/}comment',\n",
              " '{http://www.mediawiki.org/xml/export-0.10/}model',\n",
              " '{http://www.mediawiki.org/xml/export-0.10/}format',\n",
              " '{http://www.mediawiki.org/xml/export-0.10/}text',\n",
              " '{http://www.mediawiki.org/xml/export-0.10/}sha1',\n",
              " '{http://www.mediawiki.org/xml/export-0.10/}page',\n",
              " '{http://www.mediawiki.org/xml/export-0.10/}title',\n",
              " '{http://www.mediawiki.org/xml/export-0.10/}ns',\n",
              " '{http://www.mediawiki.org/xml/export-0.10/}id']"
            ]
          },
          "metadata": {},
          "execution_count": 8
        }
      ]
    },
    {
      "cell_type": "markdown",
      "source": [
        "Accedemos al atributo autor, su biografía, fechas de modificación del artículo de wikipedia, el nombre del usuario que editó el artículo.\n",
        "\n",
        "Ponemos esta información en una tabla de pandas.\n"
      ],
      "metadata": {
        "id": "2HE-I-XPZUWS"
      }
    },
    {
      "cell_type": "code",
      "source": [
        "autores = []\n",
        "for iautor in root.iter('{http://www.mediawiki.org/xml/export-0.10/}title'):\n",
        "    autores.append(iautor.text)\n",
        "\n",
        "fechas_modificacion = []\n",
        "for imodi in root.iter('{http://www.mediawiki.org/xml/export-0.10/}timestamp'):\n",
        "    fechas_modificacion.append(imodi.text)\n",
        "\n",
        "biography = []\n",
        "for ibio in root.iter('{http://www.mediawiki.org/xml/export-0.10/}text'):\n",
        "    biography.append(ibio.text)\n",
        "username=[]\n",
        "for iuser in root.iter('{http://www.mediawiki.org/xml/export-0.10/}username'):\n",
        "    username.append(iuser.text)\n",
        "    "
      ],
      "metadata": {
        "id": "sWyqKBaI2Kd5"
      },
      "execution_count": 9,
      "outputs": []
    },
    {
      "cell_type": "code",
      "source": [
        "data = pd.DataFrame(columns = ['Autor','Biografia','Fecha_Modificacion'])\n",
        "for i in range(len(autores)):\n",
        "  data = pd.concat([data,\n",
        "                  pd.DataFrame.from_records([{'Autor': autores[i], \n",
        "                                              'Biografia': biography[i], \n",
        "                                              \"Fecha_Modificacion\": fechas_modificacion[i]}]\n",
        "                                            )], ignore_index=True)"
      ],
      "metadata": {
        "id": "WFE_2eDt28iX"
      },
      "execution_count": 10,
      "outputs": []
    },
    {
      "cell_type": "code",
      "source": [
        "year_birth=[]\n",
        "day_month_birth=[]\n",
        "for i in range(len(data)):\n",
        "  \n",
        "  try:\n",
        "    year_birth.append(re.search(r\"\\[\\[([1-3][0-9]{3})\\]\\]\", data[\"Biografia\"].iloc[i]).group(1))\n",
        "  except:\n",
        "    year_birth.append(np.nan)\n",
        "  \n",
        "  try:\n",
        "    day_month_birth.append(re.search(r\"\\[\\[([1-3][1-9]\\s.*?)\\]\\]\", data[\"Biografia\"].iloc[i]).group(1))\n",
        "  except:\n",
        "    day_month_birth.append(np.nan)"
      ],
      "metadata": {
        "id": "KSse6SmP3FqW"
      },
      "execution_count": 11,
      "outputs": []
    },
    {
      "cell_type": "code",
      "source": [
        "data[\"Año_Nacimiento\"]=year_birth\n",
        "data[\"Dia_Mes_Nacimiento\"]=day_month_birth\n",
        "data"
      ],
      "metadata": {
        "colab": {
          "base_uri": "https://localhost:8080/",
          "height": 468
        },
        "id": "gvQlIf0g3LsR",
        "outputId": "91717142-64e1-4ba5-d3ca-60a25b6bbc4b"
      },
      "execution_count": 12,
      "outputs": [
        {
          "output_type": "execute_result",
          "data": {
            "text/plain": [
              "                         Autor  \\\n",
              "0    Julia Morilla de Campbell   \n",
              "1                 Luis Negreti   \n",
              "2                   Poldy Bird   \n",
              "3               Ana María Shua   \n",
              "4                 León Benarós   \n",
              "..                         ...   \n",
              "634            Humberto Tejera   \n",
              "635          Mario Molina Cruz   \n",
              "636      Luis Ignacio Helguera   \n",
              "637   Daniel Olivares Viniegra   \n",
              "638     Guadalupe Flores Liera   \n",
              "\n",
              "                                             Biografia    Fecha_Modificacion  \\\n",
              "0    '''Julia Morilla de Campbell''' ([[Rosario (Ar...  2017-10-30T07:46:11Z   \n",
              "1    {{Ficha de escritor\\n|Imagen              = NE...  2016-09-17T17:35:26Z   \n",
              "2    {{Ficha de persona\\n| padres = Enrique Bird Mo...  2018-06-11T04:34:41Z   \n",
              "3    {{Ficha de persona\\n|imagen=\\n|nombre de nacim...  2018-06-13T18:50:17Z   \n",
              "4    {{Ficha de persona\\n|nombre           = León B...  2018-04-29T21:49:56Z   \n",
              "..                                                 ...                   ...   \n",
              "634  {{Ficha de persona\\n| nombre = Humberto Tejera...  2018-07-06T17:07:38Z   \n",
              "635  {{Ficha de escritor\\n|nombre= Mario Molina Cru...  2018-07-23T14:27:14Z   \n",
              "636  {{Ficha de persona\\n| nombre = Luis Ignacio He...  2018-05-11T14:19:35Z   \n",
              "637  {{Promocional|8|julio}}\\n\\n'''Daniel Olivares ...  2018-07-20T21:56:20Z   \n",
              "638  '''Guadalupe Flores Liera''' (Ciudad de México...  2018-07-21T06:52:42Z   \n",
              "\n",
              "    Año_Nacimiento Dia_Mes_Nacimiento  \n",
              "0             1922        18 de julio  \n",
              "1             1890        16 de enero  \n",
              "2             1941    16 de diciembre  \n",
              "3             1951        22 de abril  \n",
              "4             1915       25 de agosto  \n",
              "..             ...                ...  \n",
              "634            NaN                NaN  \n",
              "635           1955        19 de enero  \n",
              "636           1962         11 de mayo  \n",
              "637            NaN                NaN  \n",
              "638            NaN                NaN  \n",
              "\n",
              "[639 rows x 5 columns]"
            ],
            "text/html": [
              "\n",
              "  <div id=\"df-e39b49de-fbc7-4490-a1ca-f77ea961c40a\">\n",
              "    <div class=\"colab-df-container\">\n",
              "      <div>\n",
              "<style scoped>\n",
              "    .dataframe tbody tr th:only-of-type {\n",
              "        vertical-align: middle;\n",
              "    }\n",
              "\n",
              "    .dataframe tbody tr th {\n",
              "        vertical-align: top;\n",
              "    }\n",
              "\n",
              "    .dataframe thead th {\n",
              "        text-align: right;\n",
              "    }\n",
              "</style>\n",
              "<table border=\"1\" class=\"dataframe\">\n",
              "  <thead>\n",
              "    <tr style=\"text-align: right;\">\n",
              "      <th></th>\n",
              "      <th>Autor</th>\n",
              "      <th>Biografia</th>\n",
              "      <th>Fecha_Modificacion</th>\n",
              "      <th>Año_Nacimiento</th>\n",
              "      <th>Dia_Mes_Nacimiento</th>\n",
              "    </tr>\n",
              "  </thead>\n",
              "  <tbody>\n",
              "    <tr>\n",
              "      <th>0</th>\n",
              "      <td>Julia Morilla de Campbell</td>\n",
              "      <td>'''Julia Morilla de Campbell''' ([[Rosario (Ar...</td>\n",
              "      <td>2017-10-30T07:46:11Z</td>\n",
              "      <td>1922</td>\n",
              "      <td>18 de julio</td>\n",
              "    </tr>\n",
              "    <tr>\n",
              "      <th>1</th>\n",
              "      <td>Luis Negreti</td>\n",
              "      <td>{{Ficha de escritor\\n|Imagen              = NE...</td>\n",
              "      <td>2016-09-17T17:35:26Z</td>\n",
              "      <td>1890</td>\n",
              "      <td>16 de enero</td>\n",
              "    </tr>\n",
              "    <tr>\n",
              "      <th>2</th>\n",
              "      <td>Poldy Bird</td>\n",
              "      <td>{{Ficha de persona\\n| padres = Enrique Bird Mo...</td>\n",
              "      <td>2018-06-11T04:34:41Z</td>\n",
              "      <td>1941</td>\n",
              "      <td>16 de diciembre</td>\n",
              "    </tr>\n",
              "    <tr>\n",
              "      <th>3</th>\n",
              "      <td>Ana María Shua</td>\n",
              "      <td>{{Ficha de persona\\n|imagen=\\n|nombre de nacim...</td>\n",
              "      <td>2018-06-13T18:50:17Z</td>\n",
              "      <td>1951</td>\n",
              "      <td>22 de abril</td>\n",
              "    </tr>\n",
              "    <tr>\n",
              "      <th>4</th>\n",
              "      <td>León Benarós</td>\n",
              "      <td>{{Ficha de persona\\n|nombre           = León B...</td>\n",
              "      <td>2018-04-29T21:49:56Z</td>\n",
              "      <td>1915</td>\n",
              "      <td>25 de agosto</td>\n",
              "    </tr>\n",
              "    <tr>\n",
              "      <th>...</th>\n",
              "      <td>...</td>\n",
              "      <td>...</td>\n",
              "      <td>...</td>\n",
              "      <td>...</td>\n",
              "      <td>...</td>\n",
              "    </tr>\n",
              "    <tr>\n",
              "      <th>634</th>\n",
              "      <td>Humberto Tejera</td>\n",
              "      <td>{{Ficha de persona\\n| nombre = Humberto Tejera...</td>\n",
              "      <td>2018-07-06T17:07:38Z</td>\n",
              "      <td>NaN</td>\n",
              "      <td>NaN</td>\n",
              "    </tr>\n",
              "    <tr>\n",
              "      <th>635</th>\n",
              "      <td>Mario Molina Cruz</td>\n",
              "      <td>{{Ficha de escritor\\n|nombre= Mario Molina Cru...</td>\n",
              "      <td>2018-07-23T14:27:14Z</td>\n",
              "      <td>1955</td>\n",
              "      <td>19 de enero</td>\n",
              "    </tr>\n",
              "    <tr>\n",
              "      <th>636</th>\n",
              "      <td>Luis Ignacio Helguera</td>\n",
              "      <td>{{Ficha de persona\\n| nombre = Luis Ignacio He...</td>\n",
              "      <td>2018-05-11T14:19:35Z</td>\n",
              "      <td>1962</td>\n",
              "      <td>11 de mayo</td>\n",
              "    </tr>\n",
              "    <tr>\n",
              "      <th>637</th>\n",
              "      <td>Daniel Olivares Viniegra</td>\n",
              "      <td>{{Promocional|8|julio}}\\n\\n'''Daniel Olivares ...</td>\n",
              "      <td>2018-07-20T21:56:20Z</td>\n",
              "      <td>NaN</td>\n",
              "      <td>NaN</td>\n",
              "    </tr>\n",
              "    <tr>\n",
              "      <th>638</th>\n",
              "      <td>Guadalupe Flores Liera</td>\n",
              "      <td>'''Guadalupe Flores Liera''' (Ciudad de México...</td>\n",
              "      <td>2018-07-21T06:52:42Z</td>\n",
              "      <td>NaN</td>\n",
              "      <td>NaN</td>\n",
              "    </tr>\n",
              "  </tbody>\n",
              "</table>\n",
              "<p>639 rows × 5 columns</p>\n",
              "</div>\n",
              "      <button class=\"colab-df-convert\" onclick=\"convertToInteractive('df-e39b49de-fbc7-4490-a1ca-f77ea961c40a')\"\n",
              "              title=\"Convert this dataframe to an interactive table.\"\n",
              "              style=\"display:none;\">\n",
              "        \n",
              "  <svg xmlns=\"http://www.w3.org/2000/svg\" height=\"24px\"viewBox=\"0 0 24 24\"\n",
              "       width=\"24px\">\n",
              "    <path d=\"M0 0h24v24H0V0z\" fill=\"none\"/>\n",
              "    <path d=\"M18.56 5.44l.94 2.06.94-2.06 2.06-.94-2.06-.94-.94-2.06-.94 2.06-2.06.94zm-11 1L8.5 8.5l.94-2.06 2.06-.94-2.06-.94L8.5 2.5l-.94 2.06-2.06.94zm10 10l.94 2.06.94-2.06 2.06-.94-2.06-.94-.94-2.06-.94 2.06-2.06.94z\"/><path d=\"M17.41 7.96l-1.37-1.37c-.4-.4-.92-.59-1.43-.59-.52 0-1.04.2-1.43.59L10.3 9.45l-7.72 7.72c-.78.78-.78 2.05 0 2.83L4 21.41c.39.39.9.59 1.41.59.51 0 1.02-.2 1.41-.59l7.78-7.78 2.81-2.81c.8-.78.8-2.07 0-2.86zM5.41 20L4 18.59l7.72-7.72 1.47 1.35L5.41 20z\"/>\n",
              "  </svg>\n",
              "      </button>\n",
              "      \n",
              "  <style>\n",
              "    .colab-df-container {\n",
              "      display:flex;\n",
              "      flex-wrap:wrap;\n",
              "      gap: 12px;\n",
              "    }\n",
              "\n",
              "    .colab-df-convert {\n",
              "      background-color: #E8F0FE;\n",
              "      border: none;\n",
              "      border-radius: 50%;\n",
              "      cursor: pointer;\n",
              "      display: none;\n",
              "      fill: #1967D2;\n",
              "      height: 32px;\n",
              "      padding: 0 0 0 0;\n",
              "      width: 32px;\n",
              "    }\n",
              "\n",
              "    .colab-df-convert:hover {\n",
              "      background-color: #E2EBFA;\n",
              "      box-shadow: 0px 1px 2px rgba(60, 64, 67, 0.3), 0px 1px 3px 1px rgba(60, 64, 67, 0.15);\n",
              "      fill: #174EA6;\n",
              "    }\n",
              "\n",
              "    [theme=dark] .colab-df-convert {\n",
              "      background-color: #3B4455;\n",
              "      fill: #D2E3FC;\n",
              "    }\n",
              "\n",
              "    [theme=dark] .colab-df-convert:hover {\n",
              "      background-color: #434B5C;\n",
              "      box-shadow: 0px 1px 3px 1px rgba(0, 0, 0, 0.15);\n",
              "      filter: drop-shadow(0px 1px 2px rgba(0, 0, 0, 0.3));\n",
              "      fill: #FFFFFF;\n",
              "    }\n",
              "  </style>\n",
              "\n",
              "      <script>\n",
              "        const buttonEl =\n",
              "          document.querySelector('#df-e39b49de-fbc7-4490-a1ca-f77ea961c40a button.colab-df-convert');\n",
              "        buttonEl.style.display =\n",
              "          google.colab.kernel.accessAllowed ? 'block' : 'none';\n",
              "\n",
              "        async function convertToInteractive(key) {\n",
              "          const element = document.querySelector('#df-e39b49de-fbc7-4490-a1ca-f77ea961c40a');\n",
              "          const dataTable =\n",
              "            await google.colab.kernel.invokeFunction('convertToInteractive',\n",
              "                                                     [key], {});\n",
              "          if (!dataTable) return;\n",
              "\n",
              "          const docLinkHtml = 'Like what you see? Visit the ' +\n",
              "            '<a target=\"_blank\" href=https://colab.research.google.com/notebooks/data_table.ipynb>data table notebook</a>'\n",
              "            + ' to learn more about interactive tables.';\n",
              "          element.innerHTML = '';\n",
              "          dataTable['output_type'] = 'display_data';\n",
              "          await google.colab.output.renderOutput(dataTable, element);\n",
              "          const docLink = document.createElement('div');\n",
              "          docLink.innerHTML = docLinkHtml;\n",
              "          element.appendChild(docLink);\n",
              "        }\n",
              "      </script>\n",
              "    </div>\n",
              "  </div>\n",
              "  "
            ]
          },
          "metadata": {},
          "execution_count": 12
        }
      ]
    },
    {
      "cell_type": "markdown",
      "source": [
        "Con la informacion de esta tabla se podria realizar un analisis del año en que hubo mas nacimientos de autores, analizar si los sucesos o eventos que sucedieron en las fechas con mas concentracion de nacimientos son reelevantes."
      ],
      "metadata": {
        "id": "8EfuwxSaLBn7"
      }
    },
    {
      "cell_type": "code",
      "source": [
        "data.to_parquet('poetas.parquet.gzip',compression='gzip')"
      ],
      "metadata": {
        "id": "bxB01lYd4wUx"
      },
      "execution_count": 13,
      "outputs": []
    }
  ]
}